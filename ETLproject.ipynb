{
 "cells": [
  {
   "cell_type": "code",
   "execution_count": 2,
   "metadata": {},
   "outputs": [],
   "source": [
    "import pandas as pd\n",
    "from sqlalchemy import create_engine\n",
    "from config import dbuser, dbpasswd, dburi, dbport, dbname\n",
    "import pymysql\n",
    "pymysql.install_as_MySQLdb()\n",
    "from sqlalchemy.ext.declarative import declarative_base\n",
    "from sqlalchemy.orm import Session\n"
   ]
  },
  {
   "cell_type": "markdown",
   "metadata": {},
   "source": [
    "# CSV Productos - Data Frame"
   ]
  },
  {
   "cell_type": "code",
   "execution_count": 3,
   "metadata": {},
   "outputs": [
    {
     "data": {
      "text/html": [
       "<div>\n",
       "<style scoped>\n",
       "    .dataframe tbody tr th:only-of-type {\n",
       "        vertical-align: middle;\n",
       "    }\n",
       "\n",
       "    .dataframe tbody tr th {\n",
       "        vertical-align: top;\n",
       "    }\n",
       "\n",
       "    .dataframe thead th {\n",
       "        text-align: right;\n",
       "    }\n",
       "</style>\n",
       "<table border=\"1\" class=\"dataframe\">\n",
       "  <thead>\n",
       "    <tr style=\"text-align: right;\">\n",
       "      <th></th>\n",
       "      <th>ITE_ITEM_ID</th>\n",
       "      <th>ITE_ITEM_TITLE</th>\n",
       "      <th>ITE_STATUS</th>\n",
       "      <th>ITE_PICKING_TYPE</th>\n",
       "      <th>CAT_CATEG_ID_L1</th>\n",
       "      <th>CAT_CATEG_ID_L2</th>\n",
       "      <th>CAT_CATEG_ID_L3</th>\n",
       "      <th>TAG</th>\n",
       "    </tr>\n",
       "  </thead>\n",
       "  <tbody>\n",
       "    <tr>\n",
       "      <th>0</th>\n",
       "      <td>601520411</td>\n",
       "      <td>Extracto Saw Palmeto O Sabal .</td>\n",
       "      <td>closed</td>\n",
       "      <td>drop_off</td>\n",
       "      <td>1403</td>\n",
       "      <td>178700</td>\n",
       "      <td>185387</td>\n",
       "      <td>No_SuperMarket</td>\n",
       "    </tr>\n",
       "    <tr>\n",
       "      <th>1</th>\n",
       "      <td>599332922</td>\n",
       "      <td>01 Paq Te Hamamelis 2 Hinojo Con Mapurite 2 Y ...</td>\n",
       "      <td>closed</td>\n",
       "      <td>drop_off</td>\n",
       "      <td>1403</td>\n",
       "      <td>178700</td>\n",
       "      <td>185387</td>\n",
       "      <td>No_SuperMarket</td>\n",
       "    </tr>\n",
       "    <tr>\n",
       "      <th>2</th>\n",
       "      <td>599662410</td>\n",
       "      <td>Extracto Cardo Mariano 30 Ml</td>\n",
       "      <td>active</td>\n",
       "      <td>drop_off</td>\n",
       "      <td>1403</td>\n",
       "      <td>178700</td>\n",
       "      <td>185387</td>\n",
       "      <td>No_SuperMarket</td>\n",
       "    </tr>\n",
       "    <tr>\n",
       "      <th>3</th>\n",
       "      <td>600001781</td>\n",
       "      <td>Extracto Castaña De Indias 30 Ml</td>\n",
       "      <td>active</td>\n",
       "      <td>drop_off</td>\n",
       "      <td>1403</td>\n",
       "      <td>178700</td>\n",
       "      <td>185387</td>\n",
       "      <td>No_SuperMarket</td>\n",
       "    </tr>\n",
       "    <tr>\n",
       "      <th>4</th>\n",
       "      <td>605466408</td>\n",
       "      <td>Pelotas Para El Agua Coloridas Para Bebés 200 ...</td>\n",
       "      <td>closed</td>\n",
       "      <td>default</td>\n",
       "      <td>1403</td>\n",
       "      <td>178700</td>\n",
       "      <td>185391</td>\n",
       "      <td>No_SuperMarket</td>\n",
       "    </tr>\n",
       "  </tbody>\n",
       "</table>\n",
       "</div>"
      ],
      "text/plain": [
       "   ITE_ITEM_ID                                     ITE_ITEM_TITLE ITE_STATUS  \\\n",
       "0    601520411                     Extracto Saw Palmeto O Sabal .     closed   \n",
       "1    599332922  01 Paq Te Hamamelis 2 Hinojo Con Mapurite 2 Y ...     closed   \n",
       "2    599662410                       Extracto Cardo Mariano 30 Ml     active   \n",
       "3    600001781                   Extracto Castaña De Indias 30 Ml     active   \n",
       "4    605466408  Pelotas Para El Agua Coloridas Para Bebés 200 ...     closed   \n",
       "\n",
       "  ITE_PICKING_TYPE  CAT_CATEG_ID_L1  CAT_CATEG_ID_L2  CAT_CATEG_ID_L3  \\\n",
       "0         drop_off             1403           178700           185387   \n",
       "1         drop_off             1403           178700           185387   \n",
       "2         drop_off             1403           178700           185387   \n",
       "3         drop_off             1403           178700           185387   \n",
       "4          default             1403           178700           185391   \n",
       "\n",
       "              TAG  \n",
       "0  No_SuperMarket  \n",
       "1  No_SuperMarket  \n",
       "2  No_SuperMarket  \n",
       "3  No_SuperMarket  \n",
       "4  No_SuperMarket  "
      ]
     },
     "execution_count": 3,
     "metadata": {},
     "output_type": "execute_result"
    }
   ],
   "source": [
    "csv_productos = \"Resources/Productos.csv\"\n",
    "productos_data_df = pd.read_csv(csv_productos, encoding=\"ISO-8859-1\")\n",
    "productos_data_df.head()"
   ]
  },
  {
   "cell_type": "code",
   "execution_count": 4,
   "metadata": {},
   "outputs": [
    {
     "data": {
      "text/html": [
       "<div>\n",
       "<style scoped>\n",
       "    .dataframe tbody tr th:only-of-type {\n",
       "        vertical-align: middle;\n",
       "    }\n",
       "\n",
       "    .dataframe tbody tr th {\n",
       "        vertical-align: top;\n",
       "    }\n",
       "\n",
       "    .dataframe thead th {\n",
       "        text-align: right;\n",
       "    }\n",
       "</style>\n",
       "<table border=\"1\" class=\"dataframe\">\n",
       "  <thead>\n",
       "    <tr style=\"text-align: right;\">\n",
       "      <th></th>\n",
       "      <th>Item_ID</th>\n",
       "      <th>Description</th>\n",
       "      <th>Status</th>\n",
       "      <th>Deliver</th>\n",
       "      <th>CAT_CATEG_ID_L1</th>\n",
       "      <th>SuperMarket</th>\n",
       "    </tr>\n",
       "  </thead>\n",
       "  <tbody>\n",
       "    <tr>\n",
       "      <th>2</th>\n",
       "      <td>599662410</td>\n",
       "      <td>Extracto Cardo Mariano 30 Ml</td>\n",
       "      <td>active</td>\n",
       "      <td>drop_off</td>\n",
       "      <td>1403</td>\n",
       "      <td>No_SuperMarket</td>\n",
       "    </tr>\n",
       "    <tr>\n",
       "      <th>3</th>\n",
       "      <td>600001781</td>\n",
       "      <td>Extracto Castaña De Indias 30 Ml</td>\n",
       "      <td>active</td>\n",
       "      <td>drop_off</td>\n",
       "      <td>1403</td>\n",
       "      <td>No_SuperMarket</td>\n",
       "    </tr>\n",
       "    <tr>\n",
       "      <th>6</th>\n",
       "      <td>600781357</td>\n",
       "      <td>Te Oregano</td>\n",
       "      <td>active</td>\n",
       "      <td>drop_off</td>\n",
       "      <td>1403</td>\n",
       "      <td>No_SuperMarket</td>\n",
       "    </tr>\n",
       "    <tr>\n",
       "      <th>7</th>\n",
       "      <td>600002255</td>\n",
       "      <td>Hierba Del Sapo Extracto</td>\n",
       "      <td>active</td>\n",
       "      <td>drop_off</td>\n",
       "      <td>1403</td>\n",
       "      <td>No_SuperMarket</td>\n",
       "    </tr>\n",
       "    <tr>\n",
       "      <th>8</th>\n",
       "      <td>604416984</td>\n",
       "      <td>Extracto De Tomillo</td>\n",
       "      <td>active</td>\n",
       "      <td>drop_off</td>\n",
       "      <td>1403</td>\n",
       "      <td>No_SuperMarket</td>\n",
       "    </tr>\n",
       "  </tbody>\n",
       "</table>\n",
       "</div>"
      ],
      "text/plain": [
       "     Item_ID                       Description  Status   Deliver  \\\n",
       "2  599662410      Extracto Cardo Mariano 30 Ml  active  drop_off   \n",
       "3  600001781  Extracto Castaña De Indias 30 Ml  active  drop_off   \n",
       "6  600781357                        Te Oregano  active  drop_off   \n",
       "7  600002255          Hierba Del Sapo Extracto  active  drop_off   \n",
       "8  604416984               Extracto De Tomillo  active  drop_off   \n",
       "\n",
       "   CAT_CATEG_ID_L1     SuperMarket  \n",
       "2             1403  No_SuperMarket  \n",
       "3             1403  No_SuperMarket  \n",
       "6             1403  No_SuperMarket  \n",
       "7             1403  No_SuperMarket  \n",
       "8             1403  No_SuperMarket  "
      ]
     },
     "execution_count": 4,
     "metadata": {},
     "output_type": "execute_result"
    }
   ],
   "source": [
    "# Clean productos_data\n",
    "productos_data_df = productos_data_df.rename(columns = {'ITE_ITEM_ID': 'Item_ID', 'ITE_ITEM_TITLE': 'Description', \n",
    "                                                       'ITE_STATUS': 'Status', 'ITE_PICKING_TYPE': 'Deliver', \n",
    "                                                       'TAG': 'SuperMarket'})\n",
    "\n",
    "productos_data_df = productos_data_df[['Item_ID', 'Description', 'Status','Deliver', 'CAT_CATEG_ID_L1','SuperMarket']].copy()\n",
    "\n",
    "productos_data_df = productos_data_df[productos_data_df['Status']=='active']\n",
    "productos_data_df.head()"
   ]
  },
  {
   "cell_type": "markdown",
   "metadata": {},
   "source": [
    "# CSV Vendedores - Data Frame"
   ]
  },
  {
   "cell_type": "code",
   "execution_count": 5,
   "metadata": {},
   "outputs": [
    {
     "data": {
      "text/html": [
       "<div>\n",
       "<style scoped>\n",
       "    .dataframe tbody tr th:only-of-type {\n",
       "        vertical-align: middle;\n",
       "    }\n",
       "\n",
       "    .dataframe tbody tr th {\n",
       "        vertical-align: top;\n",
       "    }\n",
       "\n",
       "    .dataframe thead th {\n",
       "        text-align: right;\n",
       "    }\n",
       "</style>\n",
       "<table border=\"1\" class=\"dataframe\">\n",
       "  <thead>\n",
       "    <tr style=\"text-align: right;\">\n",
       "      <th></th>\n",
       "      <th>CUS_CUST_ID_SEL</th>\n",
       "      <th>CUS_NICKNAME</th>\n",
       "      <th>SEGMENTO</th>\n",
       "    </tr>\n",
       "  </thead>\n",
       "  <tbody>\n",
       "    <tr>\n",
       "      <th>0</th>\n",
       "      <td>244515991</td>\n",
       "      <td>Teresa</td>\n",
       "      <td>LONG TAIL</td>\n",
       "    </tr>\n",
       "    <tr>\n",
       "      <th>1</th>\n",
       "      <td>270785336</td>\n",
       "      <td>Luis</td>\n",
       "      <td>LONG TAIL</td>\n",
       "    </tr>\n",
       "    <tr>\n",
       "      <th>2</th>\n",
       "      <td>16958172</td>\n",
       "      <td>Adrian</td>\n",
       "      <td>LONG TAIL</td>\n",
       "    </tr>\n",
       "    <tr>\n",
       "      <th>3</th>\n",
       "      <td>13572099</td>\n",
       "      <td>Malu</td>\n",
       "      <td>LONG TAIL</td>\n",
       "    </tr>\n",
       "    <tr>\n",
       "      <th>4</th>\n",
       "      <td>109512297</td>\n",
       "      <td>Rodrigo</td>\n",
       "      <td>LONG TAIL</td>\n",
       "    </tr>\n",
       "  </tbody>\n",
       "</table>\n",
       "</div>"
      ],
      "text/plain": [
       "   CUS_CUST_ID_SEL CUS_NICKNAME   SEGMENTO\n",
       "0        244515991       Teresa  LONG TAIL\n",
       "1        270785336         Luis  LONG TAIL\n",
       "2         16958172       Adrian  LONG TAIL\n",
       "3         13572099         Malu  LONG TAIL\n",
       "4        109512297      Rodrigo  LONG TAIL"
      ]
     },
     "execution_count": 5,
     "metadata": {},
     "output_type": "execute_result"
    }
   ],
   "source": [
    "csv_vendedores = \"Resources/Vendedores.csv\"\n",
    "vendedores_data_df = pd.read_csv(csv_vendedores, encoding=\"ISO-8859-1\")\n",
    "vendedores_data_df.head()"
   ]
  },
  {
   "cell_type": "code",
   "execution_count": 6,
   "metadata": {},
   "outputs": [
    {
     "data": {
      "text/html": [
       "<div>\n",
       "<style scoped>\n",
       "    .dataframe tbody tr th:only-of-type {\n",
       "        vertical-align: middle;\n",
       "    }\n",
       "\n",
       "    .dataframe tbody tr th {\n",
       "        vertical-align: top;\n",
       "    }\n",
       "\n",
       "    .dataframe thead th {\n",
       "        text-align: right;\n",
       "    }\n",
       "</style>\n",
       "<table border=\"1\" class=\"dataframe\">\n",
       "  <thead>\n",
       "    <tr style=\"text-align: right;\">\n",
       "      <th></th>\n",
       "      <th>Seller_ID</th>\n",
       "      <th>Seller</th>\n",
       "    </tr>\n",
       "  </thead>\n",
       "  <tbody>\n",
       "    <tr>\n",
       "      <th>0</th>\n",
       "      <td>244515991</td>\n",
       "      <td>Teresa</td>\n",
       "    </tr>\n",
       "    <tr>\n",
       "      <th>1</th>\n",
       "      <td>270785336</td>\n",
       "      <td>Luis</td>\n",
       "    </tr>\n",
       "    <tr>\n",
       "      <th>2</th>\n",
       "      <td>16958172</td>\n",
       "      <td>Adrian</td>\n",
       "    </tr>\n",
       "    <tr>\n",
       "      <th>3</th>\n",
       "      <td>13572099</td>\n",
       "      <td>Malu</td>\n",
       "    </tr>\n",
       "    <tr>\n",
       "      <th>4</th>\n",
       "      <td>109512297</td>\n",
       "      <td>Rodrigo</td>\n",
       "    </tr>\n",
       "  </tbody>\n",
       "</table>\n",
       "</div>"
      ],
      "text/plain": [
       "   Seller_ID   Seller\n",
       "0  244515991   Teresa\n",
       "1  270785336     Luis\n",
       "2   16958172   Adrian\n",
       "3   13572099     Malu\n",
       "4  109512297  Rodrigo"
      ]
     },
     "execution_count": 6,
     "metadata": {},
     "output_type": "execute_result"
    }
   ],
   "source": [
    "# Change columns name to vendedores_data\n",
    "vendedores_data_df = vendedores_data_df.rename(columns = {'CUS_CUST_ID_SEL': 'Seller_ID', 'CUS_NICKNAME': 'Seller'})\n",
    "vendedores_data_df = vendedores_data_df[['Seller_ID', 'Seller']].copy()\n",
    "vendedores_data_df.head()"
   ]
  },
  {
   "cell_type": "markdown",
   "metadata": {},
   "source": [
    "# CSV Ventas - Data Frame"
   ]
  },
  {
   "cell_type": "code",
   "execution_count": 7,
   "metadata": {},
   "outputs": [
    {
     "data": {
      "text/html": [
       "<div>\n",
       "<style scoped>\n",
       "    .dataframe tbody tr th:only-of-type {\n",
       "        vertical-align: middle;\n",
       "    }\n",
       "\n",
       "    .dataframe tbody tr th {\n",
       "        vertical-align: top;\n",
       "    }\n",
       "\n",
       "    .dataframe thead th {\n",
       "        text-align: right;\n",
       "    }\n",
       "</style>\n",
       "<table border=\"1\" class=\"dataframe\">\n",
       "  <thead>\n",
       "    <tr style=\"text-align: right;\">\n",
       "      <th></th>\n",
       "      <th>DÍA</th>\n",
       "      <th>MES</th>\n",
       "      <th>WEEK</th>\n",
       "      <th>#_ID_Vendedor</th>\n",
       "      <th>#_ID_Producto</th>\n",
       "      <th>Valor_Promedio</th>\n",
       "      <th>Unidades</th>\n",
       "    </tr>\n",
       "  </thead>\n",
       "  <tbody>\n",
       "    <tr>\n",
       "      <th>0</th>\n",
       "      <td>02/01/2018</td>\n",
       "      <td>Ene</td>\n",
       "      <td>W_01</td>\n",
       "      <td>244515991</td>\n",
       "      <td>601520411</td>\n",
       "      <td>199.00</td>\n",
       "      <td>1</td>\n",
       "    </tr>\n",
       "    <tr>\n",
       "      <th>1</th>\n",
       "      <td>02/01/2018</td>\n",
       "      <td>Ene</td>\n",
       "      <td>W_01</td>\n",
       "      <td>244515991</td>\n",
       "      <td>599332922</td>\n",
       "      <td>690.00</td>\n",
       "      <td>1</td>\n",
       "    </tr>\n",
       "    <tr>\n",
       "      <th>2</th>\n",
       "      <td>02/01/2018</td>\n",
       "      <td>Ene</td>\n",
       "      <td>W_01</td>\n",
       "      <td>244515991</td>\n",
       "      <td>599662410</td>\n",
       "      <td>199.00</td>\n",
       "      <td>1</td>\n",
       "    </tr>\n",
       "    <tr>\n",
       "      <th>3</th>\n",
       "      <td>02/01/2018</td>\n",
       "      <td>Ene</td>\n",
       "      <td>W_01</td>\n",
       "      <td>244515991</td>\n",
       "      <td>600001781</td>\n",
       "      <td>199.00</td>\n",
       "      <td>1</td>\n",
       "    </tr>\n",
       "    <tr>\n",
       "      <th>4</th>\n",
       "      <td>02/01/2018</td>\n",
       "      <td>Ene</td>\n",
       "      <td>W_01</td>\n",
       "      <td>270785336</td>\n",
       "      <td>605466408</td>\n",
       "      <td>210.93</td>\n",
       "      <td>1</td>\n",
       "    </tr>\n",
       "  </tbody>\n",
       "</table>\n",
       "</div>"
      ],
      "text/plain": [
       "          DÍA  MES  WEEK  #_ID_Vendedor  #_ID_Producto  Valor_Promedio  \\\n",
       "0  02/01/2018  Ene  W_01      244515991      601520411          199.00   \n",
       "1  02/01/2018  Ene  W_01      244515991      599332922          690.00   \n",
       "2  02/01/2018  Ene  W_01      244515991      599662410          199.00   \n",
       "3  02/01/2018  Ene  W_01      244515991      600001781          199.00   \n",
       "4  02/01/2018  Ene  W_01      270785336      605466408          210.93   \n",
       "\n",
       "   Unidades  \n",
       "0         1  \n",
       "1         1  \n",
       "2         1  \n",
       "3         1  \n",
       "4         1  "
      ]
     },
     "execution_count": 7,
     "metadata": {},
     "output_type": "execute_result"
    }
   ],
   "source": [
    "csv_ventas = \"Resources/Ventas.csv\"\n",
    "ventas_data_df = pd.read_csv(csv_ventas, encoding=\"ISO-8859-1\")\n",
    "ventas_data_df.head()"
   ]
  },
  {
   "cell_type": "code",
   "execution_count": 8,
   "metadata": {},
   "outputs": [
    {
     "data": {
      "text/html": [
       "<div>\n",
       "<style scoped>\n",
       "    .dataframe tbody tr th:only-of-type {\n",
       "        vertical-align: middle;\n",
       "    }\n",
       "\n",
       "    .dataframe tbody tr th {\n",
       "        vertical-align: top;\n",
       "    }\n",
       "\n",
       "    .dataframe thead th {\n",
       "        text-align: right;\n",
       "    }\n",
       "</style>\n",
       "<table border=\"1\" class=\"dataframe\">\n",
       "  <thead>\n",
       "    <tr style=\"text-align: right;\">\n",
       "      <th></th>\n",
       "      <th>Date</th>\n",
       "      <th>Seller_ID</th>\n",
       "      <th>Item_ID</th>\n",
       "      <th>Valor_Promedio</th>\n",
       "      <th>Unidades</th>\n",
       "      <th>Total_Sales</th>\n",
       "    </tr>\n",
       "  </thead>\n",
       "  <tbody>\n",
       "    <tr>\n",
       "      <th>0</th>\n",
       "      <td>02/01/2018</td>\n",
       "      <td>244515991</td>\n",
       "      <td>601520411</td>\n",
       "      <td>199.00</td>\n",
       "      <td>1</td>\n",
       "      <td>199.00</td>\n",
       "    </tr>\n",
       "    <tr>\n",
       "      <th>1</th>\n",
       "      <td>02/01/2018</td>\n",
       "      <td>244515991</td>\n",
       "      <td>599332922</td>\n",
       "      <td>690.00</td>\n",
       "      <td>1</td>\n",
       "      <td>690.00</td>\n",
       "    </tr>\n",
       "    <tr>\n",
       "      <th>2</th>\n",
       "      <td>02/01/2018</td>\n",
       "      <td>244515991</td>\n",
       "      <td>599662410</td>\n",
       "      <td>199.00</td>\n",
       "      <td>1</td>\n",
       "      <td>199.00</td>\n",
       "    </tr>\n",
       "    <tr>\n",
       "      <th>3</th>\n",
       "      <td>02/01/2018</td>\n",
       "      <td>244515991</td>\n",
       "      <td>600001781</td>\n",
       "      <td>199.00</td>\n",
       "      <td>1</td>\n",
       "      <td>199.00</td>\n",
       "    </tr>\n",
       "    <tr>\n",
       "      <th>4</th>\n",
       "      <td>02/01/2018</td>\n",
       "      <td>270785336</td>\n",
       "      <td>605466408</td>\n",
       "      <td>210.93</td>\n",
       "      <td>1</td>\n",
       "      <td>210.93</td>\n",
       "    </tr>\n",
       "  </tbody>\n",
       "</table>\n",
       "</div>"
      ],
      "text/plain": [
       "         Date  Seller_ID    Item_ID  Valor_Promedio  Unidades  Total_Sales\n",
       "0  02/01/2018  244515991  601520411          199.00         1       199.00\n",
       "1  02/01/2018  244515991  599332922          690.00         1       690.00\n",
       "2  02/01/2018  244515991  599662410          199.00         1       199.00\n",
       "3  02/01/2018  244515991  600001781          199.00         1       199.00\n",
       "4  02/01/2018  270785336  605466408          210.93         1       210.93"
      ]
     },
     "execution_count": 8,
     "metadata": {},
     "output_type": "execute_result"
    }
   ],
   "source": [
    "# Clean ventas_data\n",
    "\n",
    "ventas_data_df = ventas_data_df.rename(columns={'DÍA': 'Date', '#_ID_Vendedor': 'Seller_ID', '#_ID_Producto': 'Item_ID'})\n",
    "ventas_data_df = ventas_data_df[['Date', 'Seller_ID', 'Item_ID', 'Valor_Promedio', 'Unidades']].copy()\n",
    "ventas_data_df['Total_Sales'] = ventas_data_df['Valor_Promedio'] * ventas_data_df['Unidades']\n",
    "ventas_data_df.head()"
   ]
  },
  {
   "cell_type": "markdown",
   "metadata": {},
   "source": [
    "# Upload tables into MYSQL"
   ]
  },
  {
   "cell_type": "code",
   "execution_count": 10,
   "metadata": {},
   "outputs": [],
   "source": [
    "#session = Session(bind=engine)\n",
    "Base = declarative_base()\n"
   ]
  },
  {
   "cell_type": "code",
   "execution_count": 11,
   "metadata": {},
   "outputs": [
    {
     "name": "stderr",
     "output_type": "stream",
     "text": [
      "C:\\Users\\maluk\\Anaconda3\\envs\\malucastellanos\\lib\\site-packages\\pymysql\\cursors.py:170: Warning: (1366, \"Incorrect string value: '\\\\xE1ndar ...' for column 'VARIABLE_VALUE' at row 484\")\n",
      "  result = self._query(query)\n"
     ]
    }
   ],
   "source": [
    "engine = create_engine(f\"mysql://{dbuser}:{dbpasswd}@{dburi}:{dbport}/sales_mexico_db\")\n",
    "Base.metadata.create_all(engine)"
   ]
  },
  {
   "cell_type": "code",
   "execution_count": 12,
   "metadata": {},
   "outputs": [],
   "source": [
    "productos_data_df.to_sql(name='products', con=engine, if_exists='append', index=True)\n",
    "vendedores_data_df.to_sql(name='vendedores', con=engine, if_exists='append', index=True)\n",
    "ventas_data_df.to_sql(name='ventas', con=engine, if_exists='append', index=True)"
   ]
  },
  {
   "cell_type": "code",
   "execution_count": 13,
   "metadata": {},
   "outputs": [
    {
     "data": {
      "text/plain": [
       "['products', 'vendedores', 'ventas']"
      ]
     },
     "execution_count": 13,
     "metadata": {},
     "output_type": "execute_result"
    }
   ],
   "source": [
    "engine.table_names()"
   ]
  },
  {
   "cell_type": "code",
   "execution_count": 14,
   "metadata": {},
   "outputs": [
    {
     "name": "stdout",
     "output_type": "stream",
     "text": [
      "(2, 599662410, 'Extracto Cardo Mariano 30 Ml', 'active', 'drop_off', 1403, 'No_SuperMarket')\n",
      "(3, 600001781, 'Extracto Castaña De Indias 30 Ml', 'active', 'drop_off', 1403, 'No_SuperMarket')\n",
      "(6, 600781357, 'Te Oregano', 'active', 'drop_off', 1403, 'No_SuperMarket')\n",
      "(7, 600002255, 'Hierba Del Sapo Extracto', 'active', 'drop_off', 1403, 'No_SuperMarket')\n",
      "(8, 604416984, 'Extracto De Tomillo', 'active', 'drop_off', 1403, 'No_SuperMarket')\n",
      "(12, 600623850, '24g Boldo 65 Capsulas Envio Gratis', 'active', 'drop_off', 1403, 'No_SuperMarket')\n",
      "(17, 608946723, 'Extracto Cardo Santo Envio Gratis', 'active', 'drop_off', 1403, 'No_SuperMarket')\n",
      "(18, 608679180, 'Te Hierba Del Sapo', 'active', 'drop_off', 1403, 'No_SuperMarket')\n",
      "(19, 608676919, 'Extracto Equinacea', 'active', 'drop_off', 1403, 'No_SuperMarket')\n",
      "(20, 607748083, 'Sal De Mar  Organico Natural 2 Bolsas 1/2 Kilo  Envió Gratis', 'active', 'drop_off', 1403, 'No_SuperMarket')\n"
     ]
    }
   ],
   "source": [
    "data=engine.execute('SELECT * FROM products limit 10')\n",
    "for row in data:\n",
    "    print(row)"
   ]
  },
  {
   "cell_type": "code",
   "execution_count": null,
   "metadata": {},
   "outputs": [],
   "source": []
  },
  {
   "cell_type": "code",
   "execution_count": null,
   "metadata": {},
   "outputs": [],
   "source": []
  }
 ],
 "metadata": {
  "kernelspec": {
   "display_name": "Python 3",
   "language": "python",
   "name": "python3"
  },
  "language_info": {
   "codemirror_mode": {
    "name": "ipython",
    "version": 3
   },
   "file_extension": ".py",
   "mimetype": "text/x-python",
   "name": "python",
   "nbconvert_exporter": "python",
   "pygments_lexer": "ipython3",
   "version": "3.6.7"
  }
 },
 "nbformat": 4,
 "nbformat_minor": 2
}
